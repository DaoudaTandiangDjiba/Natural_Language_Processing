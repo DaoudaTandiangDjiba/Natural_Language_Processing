{
 "cells": [
  {
   "cell_type": "code",
   "execution_count": 2,
   "metadata": {},
   "outputs": [],
   "source": [
    "##tensorflow >2.0\n",
    "from tensorflow.keras.preprocessing.text import one_hot"
   ]
  },
  {
   "cell_type": "code",
   "execution_count": 2,
   "metadata": {},
   "outputs": [],
   "source": [
    "### sentences\n",
    "sent=[  'the glass of milk',\n",
    "     'the glass of juice',\n",
    "     'the cup of tea',\n",
    "    'I am a good boy',\n",
    "     'I am a good developer',\n",
    "     'understand the meaning of words',\n",
    "     'your videos are good',]"
   ]
  },
  {
   "cell_type": "code",
   "execution_count": 3,
   "metadata": {},
   "outputs": [
    {
     "data": {
      "text/plain": [
       "['the glass of milk',\n",
       " 'the glass of juice',\n",
       " 'the cup of tea',\n",
       " 'I am a good boy',\n",
       " 'I am a good developer',\n",
       " 'understand the meaning of words',\n",
       " 'your videos are good']"
      ]
     },
     "execution_count": 3,
     "metadata": {},
     "output_type": "execute_result"
    }
   ],
   "source": [
    "sent"
   ]
  },
  {
   "cell_type": "code",
   "execution_count": 4,
   "metadata": {},
   "outputs": [],
   "source": [
    "### Vocabulary size\n",
    "voc_size=10000"
   ]
  },
  {
   "cell_type": "code",
   "execution_count": 6,
   "metadata": {},
   "outputs": [
    {
     "name": "stdout",
     "output_type": "stream",
     "text": [
      "[[7215, 1279, 5032, 9141], [7215, 1279, 5032, 7038], [7215, 5036, 5032, 6187], [7999, 8606, 346, 265, 4716], [7999, 8606, 346, 265, 2095], [3120, 7215, 8150, 5032, 3910], [7785, 2, 9653, 265]]\n"
     ]
    }
   ],
   "source": [
    "onehot_repr=[one_hot(words,voc_size)for words in sent] \n",
    "print(onehot_repr)"
   ]
  },
  {
   "cell_type": "code",
   "execution_count": 7,
   "metadata": {},
   "outputs": [],
   "source": [
    "from tensorflow.keras.layers import Embedding\n",
    "from tensorflow.keras.preprocessing.sequence import pad_sequences\n",
    "from tensorflow.keras.models import Sequential"
   ]
  },
  {
   "cell_type": "code",
   "execution_count": 8,
   "metadata": {},
   "outputs": [],
   "source": [
    "import numpy as np"
   ]
  },
  {
   "cell_type": "code",
   "execution_count": 9,
   "metadata": {},
   "outputs": [
    {
     "name": "stdout",
     "output_type": "stream",
     "text": [
      "[[   0    0    0    0 7215 1279 5032 9141]\n",
      " [   0    0    0    0 7215 1279 5032 7038]\n",
      " [   0    0    0    0 7215 5036 5032 6187]\n",
      " [   0    0    0 7999 8606  346  265 4716]\n",
      " [   0    0    0 7999 8606  346  265 2095]\n",
      " [   0    0    0 3120 7215 8150 5032 3910]\n",
      " [   0    0    0    0 7785    2 9653  265]]\n"
     ]
    }
   ],
   "source": [
    "sent_length=8\n",
    "embedded_docs=pad_sequences(onehot_repr,padding='pre',maxlen=sent_length)\n",
    "print(embedded_docs)"
   ]
  },
  {
   "cell_type": "code",
   "execution_count": 10,
   "metadata": {},
   "outputs": [],
   "source": [
    "dim=10"
   ]
  },
  {
   "cell_type": "code",
   "execution_count": 11,
   "metadata": {},
   "outputs": [],
   "source": [
    "model=Sequential()\n",
    "model.add(Embedding(voc_size,10,input_length=sent_length))\n",
    "model.compile('adam','mse')"
   ]
  },
  {
   "cell_type": "code",
   "execution_count": 12,
   "metadata": {},
   "outputs": [
    {
     "name": "stdout",
     "output_type": "stream",
     "text": [
      "Model: \"sequential\"\n",
      "_________________________________________________________________\n",
      "Layer (type)                 Output Shape              Param #   \n",
      "=================================================================\n",
      "embedding (Embedding)        (None, 8, 10)             100000    \n",
      "=================================================================\n",
      "Total params: 100,000\n",
      "Trainable params: 100,000\n",
      "Non-trainable params: 0\n",
      "_________________________________________________________________\n"
     ]
    }
   ],
   "source": [
    "model.summary()"
   ]
  },
  {
   "cell_type": "code",
   "execution_count": 13,
   "metadata": {},
   "outputs": [
    {
     "name": "stdout",
     "output_type": "stream",
     "text": [
      "[[[-0.01123615  0.01419326  0.04325887 -0.00965564  0.03875517\n",
      "    0.03067681  0.00053041  0.0339103   0.03103981 -0.01236428]\n",
      "  [-0.01123615  0.01419326  0.04325887 -0.00965564  0.03875517\n",
      "    0.03067681  0.00053041  0.0339103   0.03103981 -0.01236428]\n",
      "  [-0.01123615  0.01419326  0.04325887 -0.00965564  0.03875517\n",
      "    0.03067681  0.00053041  0.0339103   0.03103981 -0.01236428]\n",
      "  [-0.01123615  0.01419326  0.04325887 -0.00965564  0.03875517\n",
      "    0.03067681  0.00053041  0.0339103   0.03103981 -0.01236428]\n",
      "  [ 0.00149946  0.0014016  -0.04709792 -0.03050131  0.03855516\n",
      "   -0.01190346 -0.02557614  0.00516742  0.0154694   0.02153781]\n",
      "  [ 0.00096718 -0.03472223 -0.04316647 -0.0277522  -0.02394832\n",
      "   -0.00690543 -0.03526675 -0.00865082 -0.04470747 -0.04305378]\n",
      "  [-0.0151678   0.03301071  0.03334287  0.04593093  0.00571444\n",
      "   -0.0072329  -0.04165993  0.02695984  0.02605144  0.03987355]\n",
      "  [ 0.01783407  0.01090772  0.03754975  0.0401888  -0.04955133\n",
      "   -0.02354832  0.04318914  0.00714868 -0.01737992 -0.01651631]]\n",
      "\n",
      " [[-0.01123615  0.01419326  0.04325887 -0.00965564  0.03875517\n",
      "    0.03067681  0.00053041  0.0339103   0.03103981 -0.01236428]\n",
      "  [-0.01123615  0.01419326  0.04325887 -0.00965564  0.03875517\n",
      "    0.03067681  0.00053041  0.0339103   0.03103981 -0.01236428]\n",
      "  [-0.01123615  0.01419326  0.04325887 -0.00965564  0.03875517\n",
      "    0.03067681  0.00053041  0.0339103   0.03103981 -0.01236428]\n",
      "  [-0.01123615  0.01419326  0.04325887 -0.00965564  0.03875517\n",
      "    0.03067681  0.00053041  0.0339103   0.03103981 -0.01236428]\n",
      "  [ 0.00149946  0.0014016  -0.04709792 -0.03050131  0.03855516\n",
      "   -0.01190346 -0.02557614  0.00516742  0.0154694   0.02153781]\n",
      "  [ 0.00096718 -0.03472223 -0.04316647 -0.0277522  -0.02394832\n",
      "   -0.00690543 -0.03526675 -0.00865082 -0.04470747 -0.04305378]\n",
      "  [-0.0151678   0.03301071  0.03334287  0.04593093  0.00571444\n",
      "   -0.0072329  -0.04165993  0.02695984  0.02605144  0.03987355]\n",
      "  [ 0.02301221  0.04382838  0.00042956  0.02648329 -0.0240751\n",
      "   -0.04387045 -0.02499905 -0.02512534 -0.04558137  0.0097693 ]]\n",
      "\n",
      " [[-0.01123615  0.01419326  0.04325887 -0.00965564  0.03875517\n",
      "    0.03067681  0.00053041  0.0339103   0.03103981 -0.01236428]\n",
      "  [-0.01123615  0.01419326  0.04325887 -0.00965564  0.03875517\n",
      "    0.03067681  0.00053041  0.0339103   0.03103981 -0.01236428]\n",
      "  [-0.01123615  0.01419326  0.04325887 -0.00965564  0.03875517\n",
      "    0.03067681  0.00053041  0.0339103   0.03103981 -0.01236428]\n",
      "  [-0.01123615  0.01419326  0.04325887 -0.00965564  0.03875517\n",
      "    0.03067681  0.00053041  0.0339103   0.03103981 -0.01236428]\n",
      "  [ 0.00149946  0.0014016  -0.04709792 -0.03050131  0.03855516\n",
      "   -0.01190346 -0.02557614  0.00516742  0.0154694   0.02153781]\n",
      "  [ 0.03834437  0.02392158 -0.02682107 -0.00277128 -0.04167365\n",
      "   -0.03631722  0.0422923   0.02111893 -0.01787583 -0.03336079]\n",
      "  [-0.0151678   0.03301071  0.03334287  0.04593093  0.00571444\n",
      "   -0.0072329  -0.04165993  0.02695984  0.02605144  0.03987355]\n",
      "  [-0.03305922  0.02914547 -0.03728263 -0.01634756 -0.02410705\n",
      "   -0.04288403 -0.01455058 -0.01402802 -0.0471203   0.00630474]]\n",
      "\n",
      " [[-0.01123615  0.01419326  0.04325887 -0.00965564  0.03875517\n",
      "    0.03067681  0.00053041  0.0339103   0.03103981 -0.01236428]\n",
      "  [-0.01123615  0.01419326  0.04325887 -0.00965564  0.03875517\n",
      "    0.03067681  0.00053041  0.0339103   0.03103981 -0.01236428]\n",
      "  [-0.01123615  0.01419326  0.04325887 -0.00965564  0.03875517\n",
      "    0.03067681  0.00053041  0.0339103   0.03103981 -0.01236428]\n",
      "  [ 0.00619787 -0.02201965  0.0312801   0.03039962 -0.0362794\n",
      "    0.00377582 -0.0210892  -0.00726923 -0.04442358  0.00273519]\n",
      "  [ 0.03927655  0.03324622 -0.0120702  -0.00887024  0.04284927\n",
      "    0.00734382  0.00376634 -0.03036764  0.01323116  0.00203935]\n",
      "  [-0.03783094  0.04558489  0.0381359   0.02479801  0.02271465\n",
      "    0.04621779  0.00928192 -0.04070078 -0.00962415  0.0499937 ]\n",
      "  [-0.02752913 -0.02701548  0.03719475 -0.01461967 -0.04066577\n",
      "   -0.0054793  -0.03518343 -0.01868644  0.01548662  0.01668788]\n",
      "  [-0.04485313  0.0401819  -0.02559962  0.03295504  0.02064285\n",
      "   -0.0339657   0.02663327  0.01799673  0.01543614 -0.00184662]]\n",
      "\n",
      " [[-0.01123615  0.01419326  0.04325887 -0.00965564  0.03875517\n",
      "    0.03067681  0.00053041  0.0339103   0.03103981 -0.01236428]\n",
      "  [-0.01123615  0.01419326  0.04325887 -0.00965564  0.03875517\n",
      "    0.03067681  0.00053041  0.0339103   0.03103981 -0.01236428]\n",
      "  [-0.01123615  0.01419326  0.04325887 -0.00965564  0.03875517\n",
      "    0.03067681  0.00053041  0.0339103   0.03103981 -0.01236428]\n",
      "  [ 0.00619787 -0.02201965  0.0312801   0.03039962 -0.0362794\n",
      "    0.00377582 -0.0210892  -0.00726923 -0.04442358  0.00273519]\n",
      "  [ 0.03927655  0.03324622 -0.0120702  -0.00887024  0.04284927\n",
      "    0.00734382  0.00376634 -0.03036764  0.01323116  0.00203935]\n",
      "  [-0.03783094  0.04558489  0.0381359   0.02479801  0.02271465\n",
      "    0.04621779  0.00928192 -0.04070078 -0.00962415  0.0499937 ]\n",
      "  [-0.02752913 -0.02701548  0.03719475 -0.01461967 -0.04066577\n",
      "   -0.0054793  -0.03518343 -0.01868644  0.01548662  0.01668788]\n",
      "  [ 0.00132315 -0.0116567   0.04072632  0.04515306 -0.03723134\n",
      "    0.02481028 -0.0410213  -0.04802001  0.01645526  0.0018831 ]]\n",
      "\n",
      " [[-0.01123615  0.01419326  0.04325887 -0.00965564  0.03875517\n",
      "    0.03067681  0.00053041  0.0339103   0.03103981 -0.01236428]\n",
      "  [-0.01123615  0.01419326  0.04325887 -0.00965564  0.03875517\n",
      "    0.03067681  0.00053041  0.0339103   0.03103981 -0.01236428]\n",
      "  [-0.01123615  0.01419326  0.04325887 -0.00965564  0.03875517\n",
      "    0.03067681  0.00053041  0.0339103   0.03103981 -0.01236428]\n",
      "  [-0.0358137   0.02681522 -0.03483335  0.04449529 -0.04463352\n",
      "   -0.01251428 -0.04244206 -0.00328523  0.04694629 -0.00129152]\n",
      "  [ 0.00149946  0.0014016  -0.04709792 -0.03050131  0.03855516\n",
      "   -0.01190346 -0.02557614  0.00516742  0.0154694   0.02153781]\n",
      "  [ 0.04524331  0.01583959  0.0005541  -0.00457256 -0.02219572\n",
      "    0.01743085  0.02651879 -0.01017146 -0.04761747  0.02581954]\n",
      "  [-0.0151678   0.03301071  0.03334287  0.04593093  0.00571444\n",
      "   -0.0072329  -0.04165993  0.02695984  0.02605144  0.03987355]\n",
      "  [ 0.03029163 -0.02668327  0.01027735  0.02713526 -0.04681189\n",
      "   -0.00418466 -0.01780846 -0.01138853  0.03065485  0.02391728]]\n",
      "\n",
      " [[-0.01123615  0.01419326  0.04325887 -0.00965564  0.03875517\n",
      "    0.03067681  0.00053041  0.0339103   0.03103981 -0.01236428]\n",
      "  [-0.01123615  0.01419326  0.04325887 -0.00965564  0.03875517\n",
      "    0.03067681  0.00053041  0.0339103   0.03103981 -0.01236428]\n",
      "  [-0.01123615  0.01419326  0.04325887 -0.00965564  0.03875517\n",
      "    0.03067681  0.00053041  0.0339103   0.03103981 -0.01236428]\n",
      "  [-0.01123615  0.01419326  0.04325887 -0.00965564  0.03875517\n",
      "    0.03067681  0.00053041  0.0339103   0.03103981 -0.01236428]\n",
      "  [-0.008784    0.0282594   0.00741056 -0.02021282 -0.03462563\n",
      "    0.01383955 -0.04034177 -0.01944829  0.01694602 -0.04079382]\n",
      "  [-0.0308954  -0.04695761  0.00752896  0.01423101  0.04191555\n",
      "    0.03649737  0.01015412  0.04736393  0.01613507  0.04563722]\n",
      "  [ 0.03245369 -0.04748274 -0.04837656 -0.01181038  0.02467245\n",
      "   -0.03122289 -0.0163148  -0.02878298  0.0170134   0.03289633]\n",
      "  [-0.02752913 -0.02701548  0.03719475 -0.01461967 -0.04066577\n",
      "   -0.0054793  -0.03518343 -0.01868644  0.01548662  0.01668788]]]\n"
     ]
    }
   ],
   "source": [
    "print(model.predict(embedded_docs))"
   ]
  },
  {
   "cell_type": "code",
   "execution_count": 53,
   "metadata": {},
   "outputs": [
    {
     "ename": "NameError",
     "evalue": "name 'embedded_docs' is not defined",
     "output_type": "error",
     "traceback": [
      "\u001b[1;31m---------------------------------------------------------------------------\u001b[0m",
      "\u001b[1;31mNameError\u001b[0m                                 Traceback (most recent call last)",
      "\u001b[1;32m<ipython-input-53-72831517a924>\u001b[0m in \u001b[0;36m<module>\u001b[1;34m\u001b[0m\n\u001b[1;32m----> 1\u001b[1;33m \u001b[0membedded_docs\u001b[0m\u001b[1;33m[\u001b[0m\u001b[1;36m0\u001b[0m\u001b[1;33m]\u001b[0m\u001b[1;33m\u001b[0m\u001b[1;33m\u001b[0m\u001b[0m\n\u001b[0m",
      "\u001b[1;31mNameError\u001b[0m: name 'embedded_docs' is not defined"
     ]
    }
   ],
   "source": [
    "embedded_docs[0]"
   ]
  },
  {
   "cell_type": "code",
   "execution_count": 17,
   "metadata": {},
   "outputs": [
    {
     "name": "stdout",
     "output_type": "stream",
     "text": [
      "[[-0.01123615  0.01419326  0.04325887 -0.00965564  0.03875517  0.03067681\n",
      "   0.00053041  0.0339103   0.03103981 -0.01236428]\n",
      " [-0.01123615  0.01419326  0.04325887 -0.00965564  0.03875517  0.03067681\n",
      "   0.00053041  0.0339103   0.03103981 -0.01236428]\n",
      " [-0.01123615  0.01419326  0.04325887 -0.00965564  0.03875517  0.03067681\n",
      "   0.00053041  0.0339103   0.03103981 -0.01236428]\n",
      " [-0.01123615  0.01419326  0.04325887 -0.00965564  0.03875517  0.03067681\n",
      "   0.00053041  0.0339103   0.03103981 -0.01236428]\n",
      " [ 0.00149946  0.0014016  -0.04709792 -0.03050131  0.03855516 -0.01190346\n",
      "  -0.02557614  0.00516742  0.0154694   0.02153781]\n",
      " [ 0.00096718 -0.03472223 -0.04316647 -0.0277522  -0.02394832 -0.00690543\n",
      "  -0.03526675 -0.00865082 -0.04470747 -0.04305378]\n",
      " [-0.0151678   0.03301071  0.03334287  0.04593093  0.00571444 -0.0072329\n",
      "  -0.04165993  0.02695984  0.02605144  0.03987355]\n",
      " [ 0.01783407  0.01090772  0.03754975  0.0401888  -0.04955133 -0.02354832\n",
      "   0.04318914  0.00714868 -0.01737992 -0.01651631]]\n"
     ]
    }
   ],
   "source": [
    "print(model.predict(embedded_docs)[0])"
   ]
  },
  {
   "cell_type": "markdown",
   "metadata": {},
   "source": [
    "# Get started with word embedding"
   ]
  },
  {
   "cell_type": "markdown",
   "metadata": {},
   "source": [
    "#### In this tutorial, we will learn how to create a word embedding model."
   ]
  },
  {
   "cell_type": "code",
   "execution_count": 34,
   "metadata": {},
   "outputs": [],
   "source": [
    "from numpy import array\n",
    "from tensorflow.keras.preprocessing.text import one_hot\n",
    "from tensorflow.keras.preprocessing.sequence import pad_sequences\n",
    "from tensorflow.keras.models import Sequential\n",
    "from tensorflow.keras.layers import Dense\n",
    "from tensorflow.keras.layers import Flatten\n",
    "from tensorflow.keras.layers import Embedding"
   ]
  },
  {
   "cell_type": "code",
   "execution_count": 35,
   "metadata": {},
   "outputs": [],
   "source": [
    "# define documents\n",
    "docs = ['Well done!',\n",
    "\t\t'Good work',\n",
    "\t\t'Great effort',\n",
    "\t\t'nice work',\n",
    "\t\t'Excellent!',\n",
    "\t\t'Weak',\n",
    "\t\t'Poor effort!',\n",
    "\t\t'not good',\n",
    "\t\t'poor work',\n",
    "\t\t'Could have done better.']\n",
    "# define class labels\n",
    "labels = array([1,1,1,1,1,0,0,0,0,0])"
   ]
  },
  {
   "cell_type": "code",
   "execution_count": 36,
   "metadata": {},
   "outputs": [
    {
     "name": "stdout",
     "output_type": "stream",
     "text": [
      "[[2, 39], [9, 4], [14, 30], [18, 4], [48], [40], [12, 30], [11, 9], [12, 4], [47, 13, 39, 37]]\n"
     ]
    }
   ],
   "source": [
    "# integer encode the documents\n",
    "vocab_size = 50\n",
    "encoded_docs = [one_hot(d, vocab_size) for d in docs]\n",
    "print(encoded_docs)"
   ]
  },
  {
   "cell_type": "code",
   "execution_count": 45,
   "metadata": {},
   "outputs": [
    {
     "name": "stdout",
     "output_type": "stream",
     "text": [
      "[[ 2 39  0  0  0]\n",
      " [ 9  4  0  0  0]\n",
      " [14 30  0  0  0]\n",
      " [18  4  0  0  0]\n",
      " [48  0  0  0  0]\n",
      " [40  0  0  0  0]\n",
      " [12 30  0  0  0]\n",
      " [11  9  0  0  0]\n",
      " [12  4  0  0  0]\n",
      " [47 13 39 37  0]]\n"
     ]
    }
   ],
   "source": [
    "# pad documents to a max length of 4 words\n",
    "max_length = 5\n",
    "padded_docs = pad_sequences(encoded_docs, maxlen=max_length, padding='post')\n",
    "print(padded_docs)"
   ]
  },
  {
   "cell_type": "code",
   "execution_count": 60,
   "metadata": {},
   "outputs": [],
   "source": [
    "# define the model\n",
    "model = Sequential()\n",
    "model.add(Embedding(vocab_size, 10, input_length=max_length))\n",
    "model.add(Flatten())\n",
    "model.add(Dense(1, activation='sigmoid'))"
   ]
  },
  {
   "cell_type": "code",
   "execution_count": 61,
   "metadata": {},
   "outputs": [],
   "source": [
    "# compile the model\n",
    "model.compile(optimizer='adam', loss='binary_crossentropy', metrics=['accuracy'])"
   ]
  },
  {
   "cell_type": "code",
   "execution_count": 62,
   "metadata": {},
   "outputs": [
    {
     "name": "stdout",
     "output_type": "stream",
     "text": [
      "Model: \"sequential_6\"\n",
      "_________________________________________________________________\n",
      "Layer (type)                 Output Shape              Param #   \n",
      "=================================================================\n",
      "embedding_6 (Embedding)      (None, 5, 10)             500       \n",
      "_________________________________________________________________\n",
      "flatten_5 (Flatten)          (None, 50)                0         \n",
      "_________________________________________________________________\n",
      "dense_5 (Dense)              (None, 1)                 51        \n",
      "=================================================================\n",
      "Total params: 551\n",
      "Trainable params: 551\n",
      "Non-trainable params: 0\n",
      "_________________________________________________________________\n",
      "None\n"
     ]
    }
   ],
   "source": [
    "# summarize the model\n",
    "print(model.summary())"
   ]
  },
  {
   "cell_type": "code",
   "execution_count": 63,
   "metadata": {},
   "outputs": [
    {
     "data": {
      "text/plain": [
       "<tensorflow.python.keras.callbacks.History at 0x137073007c8>"
      ]
     },
     "execution_count": 63,
     "metadata": {},
     "output_type": "execute_result"
    }
   ],
   "source": [
    "# fit the model\n",
    "model.fit(padded_docs, labels, epochs=100, verbose=0)"
   ]
  },
  {
   "cell_type": "code",
   "execution_count": 64,
   "metadata": {},
   "outputs": [
    {
     "name": "stdout",
     "output_type": "stream",
     "text": [
      "Accuracy: 89.999998\n"
     ]
    }
   ],
   "source": [
    "# evaluate the model\n",
    "loss, accuracy = model.evaluate(padded_docs, labels, verbose=0)\n",
    "print('Accuracy: %f' % (accuracy*100))"
   ]
  },
  {
   "cell_type": "code",
   "execution_count": 68,
   "metadata": {},
   "outputs": [
    {
     "name": "stdout",
     "output_type": "stream",
     "text": [
      "[[0.67163485]\n",
      " [0.6212301 ]\n",
      " [0.5802775 ]\n",
      " [0.6770435 ]\n",
      " [0.5732119 ]\n",
      " [0.4237716 ]\n",
      " [0.4196341 ]\n",
      " [0.39547795]\n",
      " [0.51820016]\n",
      " [0.21948579]]\n"
     ]
    }
   ],
   "source": [
    "print(model.predict(padded_docs))"
   ]
  },
  {
   "cell_type": "code",
   "execution_count": 66,
   "metadata": {},
   "outputs": [
    {
     "name": "stdout",
     "output_type": "stream",
     "text": [
      "[0.67163485]\n"
     ]
    }
   ],
   "source": [
    "print(model.predict(padded_docs)[0])"
   ]
  },
  {
   "cell_type": "markdown",
   "metadata": {},
   "source": [
    "### Pre-trained word embedding with Glove"
   ]
  },
  {
   "cell_type": "code",
   "execution_count": null,
   "metadata": {},
   "outputs": [],
   "source": [
    "# prepare tokenizer\n",
    "t = Tokenizer()\n",
    "t.fit_on_texts(docs)\n",
    "vocab_size = len(t.word_index) + 1"
   ]
  },
  {
   "cell_type": "code",
   "execution_count": null,
   "metadata": {},
   "outputs": [],
   "source": [
    "# integer encode the documents\n",
    "encoded_docs = t.texts_to_sequences(docs)\n",
    "print(encoded_docs)"
   ]
  },
  {
   "cell_type": "code",
   "execution_count": null,
   "metadata": {},
   "outputs": [],
   "source": [
    "# pad documents to a max length of 4 words\n",
    "max_length = 4\n",
    "padded_docs = pad_sequences(encoded_docs, maxlen=max_length, padding='post')\n",
    "print(padded_docs)"
   ]
  },
  {
   "cell_type": "code",
   "execution_count": null,
   "metadata": {},
   "outputs": [],
   "source": [
    "# load the whole embedding into memory\n",
    "embeddings_index = dict()\n",
    "f = open('../glove_data/glove.6B/glove.6B.100d.txt')\n",
    "for line in f:\n",
    "\tvalues = line.split()\n",
    "\tword = values[0]\n",
    "\tcoefs = asarray(values[1:], dtype='float32')\n",
    "\tembeddings_index[word] = coefs\n",
    "f.close()\n",
    "print('Loaded %s word vectors.' % len(embeddings_index))"
   ]
  },
  {
   "cell_type": "code",
   "execution_count": null,
   "metadata": {},
   "outputs": [],
   "source": [
    "# create a weight matrix for words in training docs\n",
    "embedding_matrix = zeros((vocab_size, 100))\n",
    "for word, i in t.word_index.items():\n",
    "\tembedding_vector = embeddings_index.get(word)\n",
    "\tif embedding_vector is not None:\n",
    "\t\tembedding_matrix[i] = embedding_vector"
   ]
  },
  {
   "cell_type": "code",
   "execution_count": null,
   "metadata": {},
   "outputs": [],
   "source": [
    "# define model\n",
    "model = Sequential()\n",
    "e = Embedding(vocab_size, 100, weights=[embedding_matrix], input_length=4, trainable=False)\n",
    "model.add(e)\n",
    "model.add(Flatten())\n",
    "model.add(Dense(1, activation='sigmoid'))"
   ]
  },
  {
   "cell_type": "code",
   "execution_count": null,
   "metadata": {},
   "outputs": [],
   "source": [
    "# compile the model\n",
    "model.compile(optimizer='adam', loss='binary_crossentropy', metrics=['accuracy'])\n",
    "# summarize the model\n",
    "print(model.summary())"
   ]
  },
  {
   "cell_type": "code",
   "execution_count": null,
   "metadata": {},
   "outputs": [],
   "source": [
    "# fit the model\n",
    "model.fit(padded_docs, labels, epochs=50, verbose=0)"
   ]
  },
  {
   "cell_type": "code",
   "execution_count": null,
   "metadata": {},
   "outputs": [],
   "source": [
    "# evaluate the model\n",
    "loss, accuracy = model.evaluate(padded_docs, labels, verbose=0)\n",
    "print('Accuracy: %f' % (accuracy*100))"
   ]
  }
 ],
 "metadata": {
  "kernelspec": {
   "display_name": "Python 3.7 (tensorflow)",
   "language": "python",
   "name": "tensorflow"
  },
  "language_info": {
   "codemirror_mode": {
    "name": "ipython",
    "version": 3
   },
   "file_extension": ".py",
   "mimetype": "text/x-python",
   "name": "python",
   "nbconvert_exporter": "python",
   "pygments_lexer": "ipython3",
   "version": "3.7.7"
  }
 },
 "nbformat": 4,
 "nbformat_minor": 4
}
